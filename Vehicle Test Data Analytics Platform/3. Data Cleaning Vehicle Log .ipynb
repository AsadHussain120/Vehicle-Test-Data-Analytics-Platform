{
 "cells": [
  {
   "cell_type": "markdown",
   "id": "c021140f",
   "metadata": {},
   "source": [
    "# PART 3 : Handling missing data and Quality check "
   ]
  },
  {
   "cell_type": "markdown",
   "id": "8dc7e762",
   "metadata": {},
   "source": [
    "In this section, we will go through the usual data check to maintain good and useful data. The check marks will be : \n",
    "1. Check for Data Types \n",
    "2. Check for missing values (It will be divided seperately b/w EVs and Hybrid models)\n",
    "3. Check for null values \n",
    "4. Check for duplicates \n",
    " "
   ]
  },
  {
   "cell_type": "code",
   "execution_count": 1,
   "id": "aa0f89e1",
   "metadata": {},
   "outputs": [],
   "source": [
    "import pandas as pd\n",
    "\n",
    "df = pd.read_csv(\"combined_vehicle_test_logs.csv\", parse_dates=['timestamp'])\n"
   ]
  },
  {
   "cell_type": "code",
   "execution_count": 2,
   "id": "438195e7",
   "metadata": {},
   "outputs": [
    {
     "data": {
      "text/html": [
       "<div>\n",
       "<style scoped>\n",
       "    .dataframe tbody tr th:only-of-type {\n",
       "        vertical-align: middle;\n",
       "    }\n",
       "\n",
       "    .dataframe tbody tr th {\n",
       "        vertical-align: top;\n",
       "    }\n",
       "\n",
       "    .dataframe thead th {\n",
       "        text-align: right;\n",
       "    }\n",
       "</style>\n",
       "<table border=\"1\" class=\"dataframe\">\n",
       "  <thead>\n",
       "    <tr style=\"text-align: right;\">\n",
       "      <th></th>\n",
       "      <th>timestamp</th>\n",
       "      <th>vehicle_id</th>\n",
       "      <th>propulsion_type</th>\n",
       "      <th>test_scenario</th>\n",
       "      <th>vehicle_speed_mph</th>\n",
       "      <th>acceleration_mphps</th>\n",
       "      <th>engine_rpm</th>\n",
       "      <th>torque</th>\n",
       "      <th>coolant_temp</th>\n",
       "      <th>ambient_temp</th>\n",
       "      <th>power_kw</th>\n",
       "      <th>phase</th>\n",
       "      <th>soc</th>\n",
       "      <th>source_file</th>\n",
       "    </tr>\n",
       "  </thead>\n",
       "  <tbody>\n",
       "    <tr>\n",
       "      <th>0</th>\n",
       "      <td>2025-08-11 21:02:06.665331</td>\n",
       "      <td>V001</td>\n",
       "      <td>EV</td>\n",
       "      <td>Cold Start</td>\n",
       "      <td>0.00</td>\n",
       "      <td>0.00</td>\n",
       "      <td>500.00</td>\n",
       "      <td>99.49</td>\n",
       "      <td>39.87</td>\n",
       "      <td>29.089257</td>\n",
       "      <td>5.21</td>\n",
       "      <td>Idle</td>\n",
       "      <td>99.99</td>\n",
       "      <td>V001_Cold_Start.csv</td>\n",
       "    </tr>\n",
       "    <tr>\n",
       "      <th>1</th>\n",
       "      <td>2025-08-11 21:02:07.665331</td>\n",
       "      <td>V001</td>\n",
       "      <td>EV</td>\n",
       "      <td>Cold Start</td>\n",
       "      <td>0.00</td>\n",
       "      <td>0.00</td>\n",
       "      <td>500.00</td>\n",
       "      <td>98.36</td>\n",
       "      <td>39.89</td>\n",
       "      <td>29.086131</td>\n",
       "      <td>5.15</td>\n",
       "      <td>Idle</td>\n",
       "      <td>100.00</td>\n",
       "      <td>V001_Cold_Start.csv</td>\n",
       "    </tr>\n",
       "    <tr>\n",
       "      <th>2</th>\n",
       "      <td>2025-08-11 21:02:08.665331</td>\n",
       "      <td>V001</td>\n",
       "      <td>EV</td>\n",
       "      <td>Cold Start</td>\n",
       "      <td>0.00</td>\n",
       "      <td>0.00</td>\n",
       "      <td>500.00</td>\n",
       "      <td>118.50</td>\n",
       "      <td>39.91</td>\n",
       "      <td>29.093595</td>\n",
       "      <td>6.20</td>\n",
       "      <td>Idle</td>\n",
       "      <td>100.00</td>\n",
       "      <td>V001_Cold_Start.csv</td>\n",
       "    </tr>\n",
       "    <tr>\n",
       "      <th>3</th>\n",
       "      <td>2025-08-11 21:02:09.665331</td>\n",
       "      <td>V001</td>\n",
       "      <td>EV</td>\n",
       "      <td>Cold Start</td>\n",
       "      <td>0.00</td>\n",
       "      <td>0.00</td>\n",
       "      <td>500.00</td>\n",
       "      <td>108.82</td>\n",
       "      <td>39.93</td>\n",
       "      <td>29.105409</td>\n",
       "      <td>5.70</td>\n",
       "      <td>Idle</td>\n",
       "      <td>100.00</td>\n",
       "      <td>V001_Cold_Start.csv</td>\n",
       "    </tr>\n",
       "    <tr>\n",
       "      <th>4</th>\n",
       "      <td>2025-08-11 21:02:10.665331</td>\n",
       "      <td>V001</td>\n",
       "      <td>EV</td>\n",
       "      <td>Cold Start</td>\n",
       "      <td>0.00</td>\n",
       "      <td>0.00</td>\n",
       "      <td>500.00</td>\n",
       "      <td>123.97</td>\n",
       "      <td>39.95</td>\n",
       "      <td>29.106028</td>\n",
       "      <td>6.49</td>\n",
       "      <td>Idle</td>\n",
       "      <td>99.89</td>\n",
       "      <td>V001_Cold_Start.csv</td>\n",
       "    </tr>\n",
       "    <tr>\n",
       "      <th>...</th>\n",
       "      <td>...</td>\n",
       "      <td>...</td>\n",
       "      <td>...</td>\n",
       "      <td>...</td>\n",
       "      <td>...</td>\n",
       "      <td>...</td>\n",
       "      <td>...</td>\n",
       "      <td>...</td>\n",
       "      <td>...</td>\n",
       "      <td>...</td>\n",
       "      <td>...</td>\n",
       "      <td>...</td>\n",
       "      <td>...</td>\n",
       "      <td>...</td>\n",
       "    </tr>\n",
       "    <tr>\n",
       "      <th>74695</th>\n",
       "      <td>2025-08-11 21:59:02.424916</td>\n",
       "      <td>V005</td>\n",
       "      <td>EV</td>\n",
       "      <td>Hill Climb</td>\n",
       "      <td>28.78</td>\n",
       "      <td>-2.10</td>\n",
       "      <td>1227.38</td>\n",
       "      <td>254.26</td>\n",
       "      <td>57.15</td>\n",
       "      <td>25.606847</td>\n",
       "      <td>32.68</td>\n",
       "      <td>Brake</td>\n",
       "      <td>80.54</td>\n",
       "      <td>V005_Hill_Climb.csv</td>\n",
       "    </tr>\n",
       "    <tr>\n",
       "      <th>74696</th>\n",
       "      <td>2025-08-11 21:59:03.424916</td>\n",
       "      <td>V005</td>\n",
       "      <td>EV</td>\n",
       "      <td>Hill Climb</td>\n",
       "      <td>31.18</td>\n",
       "      <td>2.40</td>\n",
       "      <td>1185.19</td>\n",
       "      <td>226.32</td>\n",
       "      <td>57.15</td>\n",
       "      <td>25.618882</td>\n",
       "      <td>28.09</td>\n",
       "      <td>Accelerate</td>\n",
       "      <td>80.02</td>\n",
       "      <td>V005_Hill_Climb.csv</td>\n",
       "    </tr>\n",
       "    <tr>\n",
       "      <th>74697</th>\n",
       "      <td>2025-08-11 21:59:04.424916</td>\n",
       "      <td>V005</td>\n",
       "      <td>EV</td>\n",
       "      <td>Hill Climb</td>\n",
       "      <td>30.48</td>\n",
       "      <td>-0.71</td>\n",
       "      <td>1202.66</td>\n",
       "      <td>218.90</td>\n",
       "      <td>57.15</td>\n",
       "      <td>25.624723</td>\n",
       "      <td>27.57</td>\n",
       "      <td>Brake</td>\n",
       "      <td>80.20</td>\n",
       "      <td>V005_Hill_Climb.csv</td>\n",
       "    </tr>\n",
       "    <tr>\n",
       "      <th>74698</th>\n",
       "      <td>2025-08-11 21:59:05.424916</td>\n",
       "      <td>V005</td>\n",
       "      <td>EV</td>\n",
       "      <td>Hill Climb</td>\n",
       "      <td>30.64</td>\n",
       "      <td>0.16</td>\n",
       "      <td>1157.06</td>\n",
       "      <td>262.23</td>\n",
       "      <td>57.15</td>\n",
       "      <td>25.617192</td>\n",
       "      <td>31.77</td>\n",
       "      <td>Cruise</td>\n",
       "      <td>80.48</td>\n",
       "      <td>V005_Hill_Climb.csv</td>\n",
       "    </tr>\n",
       "    <tr>\n",
       "      <th>74699</th>\n",
       "      <td>2025-08-11 21:59:06.424916</td>\n",
       "      <td>V005</td>\n",
       "      <td>EV</td>\n",
       "      <td>Hill Climb</td>\n",
       "      <td>29.96</td>\n",
       "      <td>-0.68</td>\n",
       "      <td>1149.53</td>\n",
       "      <td>213.53</td>\n",
       "      <td>57.15</td>\n",
       "      <td>25.601495</td>\n",
       "      <td>25.70</td>\n",
       "      <td>Brake</td>\n",
       "      <td>79.62</td>\n",
       "      <td>V005_Hill_Climb.csv</td>\n",
       "    </tr>\n",
       "  </tbody>\n",
       "</table>\n",
       "<p>74700 rows × 14 columns</p>\n",
       "</div>"
      ],
      "text/plain": [
       "                       timestamp vehicle_id propulsion_type test_scenario  \\\n",
       "0     2025-08-11 21:02:06.665331       V001              EV    Cold Start   \n",
       "1     2025-08-11 21:02:07.665331       V001              EV    Cold Start   \n",
       "2     2025-08-11 21:02:08.665331       V001              EV    Cold Start   \n",
       "3     2025-08-11 21:02:09.665331       V001              EV    Cold Start   \n",
       "4     2025-08-11 21:02:10.665331       V001              EV    Cold Start   \n",
       "...                          ...        ...             ...           ...   \n",
       "74695 2025-08-11 21:59:02.424916       V005              EV    Hill Climb   \n",
       "74696 2025-08-11 21:59:03.424916       V005              EV    Hill Climb   \n",
       "74697 2025-08-11 21:59:04.424916       V005              EV    Hill Climb   \n",
       "74698 2025-08-11 21:59:05.424916       V005              EV    Hill Climb   \n",
       "74699 2025-08-11 21:59:06.424916       V005              EV    Hill Climb   \n",
       "\n",
       "       vehicle_speed_mph  acceleration_mphps  engine_rpm  torque  \\\n",
       "0                   0.00                0.00      500.00   99.49   \n",
       "1                   0.00                0.00      500.00   98.36   \n",
       "2                   0.00                0.00      500.00  118.50   \n",
       "3                   0.00                0.00      500.00  108.82   \n",
       "4                   0.00                0.00      500.00  123.97   \n",
       "...                  ...                 ...         ...     ...   \n",
       "74695              28.78               -2.10     1227.38  254.26   \n",
       "74696              31.18                2.40     1185.19  226.32   \n",
       "74697              30.48               -0.71     1202.66  218.90   \n",
       "74698              30.64                0.16     1157.06  262.23   \n",
       "74699              29.96               -0.68     1149.53  213.53   \n",
       "\n",
       "       coolant_temp  ambient_temp  power_kw       phase     soc  \\\n",
       "0             39.87     29.089257      5.21        Idle   99.99   \n",
       "1             39.89     29.086131      5.15        Idle  100.00   \n",
       "2             39.91     29.093595      6.20        Idle  100.00   \n",
       "3             39.93     29.105409      5.70        Idle  100.00   \n",
       "4             39.95     29.106028      6.49        Idle   99.89   \n",
       "...             ...           ...       ...         ...     ...   \n",
       "74695         57.15     25.606847     32.68       Brake   80.54   \n",
       "74696         57.15     25.618882     28.09  Accelerate   80.02   \n",
       "74697         57.15     25.624723     27.57       Brake   80.20   \n",
       "74698         57.15     25.617192     31.77      Cruise   80.48   \n",
       "74699         57.15     25.601495     25.70       Brake   79.62   \n",
       "\n",
       "               source_file  \n",
       "0      V001_Cold_Start.csv  \n",
       "1      V001_Cold_Start.csv  \n",
       "2      V001_Cold_Start.csv  \n",
       "3      V001_Cold_Start.csv  \n",
       "4      V001_Cold_Start.csv  \n",
       "...                    ...  \n",
       "74695  V005_Hill_Climb.csv  \n",
       "74696  V005_Hill_Climb.csv  \n",
       "74697  V005_Hill_Climb.csv  \n",
       "74698  V005_Hill_Climb.csv  \n",
       "74699  V005_Hill_Climb.csv  \n",
       "\n",
       "[74700 rows x 14 columns]"
      ]
     },
     "execution_count": 2,
     "metadata": {},
     "output_type": "execute_result"
    }
   ],
   "source": [
    "df"
   ]
  },
  {
   "cell_type": "code",
   "execution_count": 3,
   "id": "5aaa957d",
   "metadata": {},
   "outputs": [
    {
     "name": "stdout",
     "output_type": "stream",
     "text": [
      "timestamp             datetime64[ns]\n",
      "vehicle_id                    object\n",
      "propulsion_type               object\n",
      "test_scenario                 object\n",
      "vehicle_speed_mph            float64\n",
      "acceleration_mphps           float64\n",
      "engine_rpm                   float64\n",
      "torque                       float64\n",
      "coolant_temp                 float64\n",
      "ambient_temp                 float64\n",
      "power_kw                     float64\n",
      "phase                         object\n",
      "soc                          float64\n",
      "source_file                   object\n",
      "dtype: object\n"
     ]
    }
   ],
   "source": [
    "# 1. Check the data types \n",
    "\n",
    "print(df.dtypes)\n"
   ]
  },
  {
   "cell_type": "code",
   "execution_count": 4,
   "id": "2ad3a65d",
   "metadata": {},
   "outputs": [],
   "source": [
    "# pd.to_datetime → Turns date strings into real datetime objects for time-based analysis.\n",
    "\n",
    "df['timestamp'] = pd.to_datetime(df['timestamp'])\n"
   ]
  },
  {
   "cell_type": "code",
   "execution_count": 5,
   "id": "85eaffca",
   "metadata": {},
   "outputs": [
    {
     "name": "stdout",
     "output_type": "stream",
     "text": [
      "soc    30840\n",
      "dtype: int64\n"
     ]
    }
   ],
   "source": [
    "# 2. Check for missing values \n",
    "# Calculates how many missing values each column has and prints only the columns where the count is greater than zero.\n",
    "\n",
    "missing = df.isnull().sum()\n",
    "print(missing[missing > 0])\n"
   ]
  },
  {
   "cell_type": "code",
   "execution_count": 6,
   "id": "42cb961e",
   "metadata": {},
   "outputs": [],
   "source": [
    "# 3 . Check for null values \n",
    "# Filters out Data Frame by propulsion Type \n",
    "\n",
    "ev_df = df[df['propulsion_type'] == 'EV']\n",
    "hybrid_df = df[df['propulsion_type'] == 'Hybrid']\n"
   ]
  },
  {
   "cell_type": "code",
   "execution_count": 7,
   "id": "64c67729",
   "metadata": {},
   "outputs": [
    {
     "name": "stdout",
     "output_type": "stream",
     "text": [
      "EV missing values:\n",
      " timestamp             0\n",
      "vehicle_id            0\n",
      "propulsion_type       0\n",
      "test_scenario         0\n",
      "vehicle_speed_mph     0\n",
      "acceleration_mphps    0\n",
      "engine_rpm            0\n",
      "torque                0\n",
      "coolant_temp          0\n",
      "ambient_temp          0\n",
      "power_kw              0\n",
      "phase                 0\n",
      "soc                   0\n",
      "source_file           0\n",
      "dtype: int64\n"
     ]
    },
    {
     "data": {
      "text/plain": [
       "0"
      ]
     },
     "execution_count": 7,
     "metadata": {},
     "output_type": "execute_result"
    }
   ],
   "source": [
    "# Will check if there are any missing values for EV's\n",
    "\n",
    "print(\"EV missing values:\\n\", ev_df.isnull().sum())\n",
    "\n",
    "# Should expect:\n",
    "# fuel_rate == 0 (always) because EVs do not have fuel rate and costs per charge (This data column can be ignored )\n",
    "# gear == NaN (valid as EVs don't shift gears)\n",
    "# State of the charge (SOC) cannot be Null \n",
    "ev_df['soc'].isnull().sum()         # Should be 0\n"
   ]
  },
  {
   "cell_type": "markdown",
   "id": "63198871",
   "metadata": {},
   "source": [
    "Here, we can see that gears have missing values Ev's do not have any gear controls....."
   ]
  },
  {
   "cell_type": "code",
   "execution_count": null,
   "id": "6f2e248c",
   "metadata": {},
   "outputs": [],
   "source": [
    "\n"
   ]
  },
  {
   "cell_type": "markdown",
   "id": "cdb2186a",
   "metadata": {},
   "source": [
    "Here, we can see that State of Charge (Soc) is 0, as plug in hybrids use traditional fuel wit battery supply....."
   ]
  },
  {
   "cell_type": "code",
   "execution_count": 8,
   "id": "af8aba5d",
   "metadata": {},
   "outputs": [],
   "source": [
    "df_cleaned = pd.concat([ev_df, hybrid_df], ignore_index=True)"
   ]
  },
  {
   "cell_type": "code",
   "execution_count": 9,
   "id": "4724a490",
   "metadata": {},
   "outputs": [
    {
     "name": "stdout",
     "output_type": "stream",
     "text": [
      "Duplicate rows: 0\n"
     ]
    }
   ],
   "source": [
    "# 4. Check for Duplicate Values \n",
    "\n",
    "duplicates = df.duplicated().sum()\n",
    "print(f\"Duplicate rows: {duplicates}\")\n",
    "\n",
    "df = df.drop_duplicates()\n"
   ]
  },
  {
   "cell_type": "markdown",
   "id": "dae02396",
   "metadata": {},
   "source": [
    "There no Duplicates present in the dataset...."
   ]
  },
  {
   "cell_type": "code",
   "execution_count": null,
   "id": "02e987b9",
   "metadata": {},
   "outputs": [],
   "source": []
  },
  {
   "cell_type": "code",
   "execution_count": null,
   "id": "1d6bfc50",
   "metadata": {},
   "outputs": [],
   "source": []
  },
  {
   "cell_type": "code",
   "execution_count": null,
   "id": "57ee9ad4",
   "metadata": {},
   "outputs": [],
   "source": [
    "\n"
   ]
  },
  {
   "cell_type": "code",
   "execution_count": 10,
   "id": "30997c50",
   "metadata": {},
   "outputs": [],
   "source": [
    "df.to_csv(\"cleaned_vehicle_test_logs.csv\", index=False)\n"
   ]
  },
  {
   "cell_type": "code",
   "execution_count": null,
   "id": "1787f7eb",
   "metadata": {},
   "outputs": [],
   "source": []
  }
 ],
 "metadata": {
  "kernelspec": {
   "display_name": "Python 3 (ipykernel)",
   "language": "python",
   "name": "python3"
  },
  "language_info": {
   "codemirror_mode": {
    "name": "ipython",
    "version": 3
   },
   "file_extension": ".py",
   "mimetype": "text/x-python",
   "name": "python",
   "nbconvert_exporter": "python",
   "pygments_lexer": "ipython3",
   "version": "3.11.5"
  }
 },
 "nbformat": 4,
 "nbformat_minor": 5
}
