{
 "cells": [
  {
   "cell_type": "markdown",
   "id": "1959ded1",
   "metadata": {},
   "source": [
    "# PART 2 : Concatenation of Vehicle Logs "
   ]
  },
  {
   "cell_type": "markdown",
   "id": "e3dfbf4a",
   "metadata": {},
   "source": [
    "This part deals with combining various dataset as one. Because it's much easier to handle the data when its combined as one rather than on its own. This is the most important part before we can store the data in AMAZON S3 Data Lake, where we recieve automated data. After concatination, the dataset can either be used on it's own for analysis or be handled in the cloud. For this analysis, we can upload it on AMAZON S3 but next part will showcase checkiing for any missing values and check for various trends. \n",
    "\n",
    "NOTE : Whenever a new Data is generated in Part 1, the vehicle logs will be permantly overidden cannot be retrieved again, make sure to save it before anything else!"
   ]
  },
  {
   "cell_type": "code",
   "execution_count": 1,
   "id": "d52ab3ea",
   "metadata": {
    "scrolled": true
   },
   "outputs": [
    {
     "name": "stdout",
     "output_type": "stream",
     "text": [
      "✅ All files combined and saved as 'combined_vehicle_test_logs.csv'\n"
     ]
    }
   ],
   "source": [
    "import pandas as pd\n",
    "import glob\n",
    "import os\n",
    "\n",
    "# Step 1: Set your folder path\n",
    "folder_path = './'  # Adjust if files are in another directory\n",
    "\n",
    "# Step 2: Use glob to find all CSV files\n",
    "all_files = glob.glob(os.path.join(folder_path, \"*.csv\"))\n",
    "\n",
    "# Step 3: Combine all files into one DataFrame\n",
    "combined_df = pd.concat([pd.read_csv(f).assign(source_file=os.path.basename(f)) for f in all_files], ignore_index=True)\n",
    "\n",
    "# Step 4: Save to a new combined file\n",
    "combined_df.to_csv(\"combined_vehicle_test_logs.csv\", index=False)\n",
    "\n",
    "print(\"✅ All files combined and saved as 'combined_vehicle_test_logs.csv'\")\n"
   ]
  },
  {
   "cell_type": "code",
   "execution_count": null,
   "id": "e1506743",
   "metadata": {},
   "outputs": [],
   "source": []
  }
 ],
 "metadata": {
  "kernelspec": {
   "display_name": "Python 3 (ipykernel)",
   "language": "python",
   "name": "python3"
  },
  "language_info": {
   "codemirror_mode": {
    "name": "ipython",
    "version": 3
   },
   "file_extension": ".py",
   "mimetype": "text/x-python",
   "name": "python",
   "nbconvert_exporter": "python",
   "pygments_lexer": "ipython3",
   "version": "3.11.5"
  }
 },
 "nbformat": 4,
 "nbformat_minor": 5
}
