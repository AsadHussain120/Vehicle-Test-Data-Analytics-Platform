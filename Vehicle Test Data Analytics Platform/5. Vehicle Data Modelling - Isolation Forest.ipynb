{
 "cells": [
  {
   "cell_type": "markdown",
   "id": "be5fddb4",
   "metadata": {},
   "source": [
    "# PART 5 : Isolation Forest Modelling \n",
    "\n",
    "In this final part of the code, we will be using a machine learning algoritmn called \"Isolation Forest\". It works by for data anamoly detection using binary trees. As this is part of unsupervised machine learning algorithmn,  it will be able to detect the outliers present in the data to isolate from rest of it. This method can be used for checking 'Torque Dropout' and 'Overheating'. \n",
    "\n",
    "Further details will be discussed below --"
   ]
  },
  {
   "cell_type": "code",
   "execution_count": 1,
   "id": "2f188763",
   "metadata": {},
   "outputs": [],
   "source": [
    "import pandas as pd\n",
    "import numpy as np\n",
    "from sklearn.ensemble import IsolationForest\n",
    "\n",
    "# Step 1: Loading the dataset\n",
    "df = pd.read_csv(\"cleaned_vehicle_test_logs.csv\")\n"
   ]
  },
  {
   "cell_type": "code",
   "execution_count": 2,
   "id": "5e4feb7d",
   "metadata": {},
   "outputs": [
    {
     "data": {
      "text/html": [
       "<div>\n",
       "<style scoped>\n",
       "    .dataframe tbody tr th:only-of-type {\n",
       "        vertical-align: middle;\n",
       "    }\n",
       "\n",
       "    .dataframe tbody tr th {\n",
       "        vertical-align: top;\n",
       "    }\n",
       "\n",
       "    .dataframe thead th {\n",
       "        text-align: right;\n",
       "    }\n",
       "</style>\n",
       "<table border=\"1\" class=\"dataframe\">\n",
       "  <thead>\n",
       "    <tr style=\"text-align: right;\">\n",
       "      <th></th>\n",
       "      <th>timestamp</th>\n",
       "      <th>vehicle_id</th>\n",
       "      <th>propulsion_type</th>\n",
       "      <th>test_scenario</th>\n",
       "      <th>vehicle_speed_mph</th>\n",
       "      <th>acceleration_mphps</th>\n",
       "      <th>engine_rpm</th>\n",
       "      <th>torque</th>\n",
       "      <th>coolant_temp</th>\n",
       "      <th>ambient_temp</th>\n",
       "      <th>power_kw</th>\n",
       "      <th>phase</th>\n",
       "      <th>soc</th>\n",
       "      <th>source_file</th>\n",
       "    </tr>\n",
       "  </thead>\n",
       "  <tbody>\n",
       "    <tr>\n",
       "      <th>0</th>\n",
       "      <td>2025-08-11 21:02:06.665331</td>\n",
       "      <td>V001</td>\n",
       "      <td>EV</td>\n",
       "      <td>Cold Start</td>\n",
       "      <td>0.0</td>\n",
       "      <td>0.0</td>\n",
       "      <td>500.0</td>\n",
       "      <td>99.49</td>\n",
       "      <td>39.87</td>\n",
       "      <td>29.089257</td>\n",
       "      <td>5.21</td>\n",
       "      <td>Idle</td>\n",
       "      <td>99.99</td>\n",
       "      <td>V001_Cold_Start.csv</td>\n",
       "    </tr>\n",
       "    <tr>\n",
       "      <th>1</th>\n",
       "      <td>2025-08-11 21:02:07.665331</td>\n",
       "      <td>V001</td>\n",
       "      <td>EV</td>\n",
       "      <td>Cold Start</td>\n",
       "      <td>0.0</td>\n",
       "      <td>0.0</td>\n",
       "      <td>500.0</td>\n",
       "      <td>98.36</td>\n",
       "      <td>39.89</td>\n",
       "      <td>29.086131</td>\n",
       "      <td>5.15</td>\n",
       "      <td>Idle</td>\n",
       "      <td>100.00</td>\n",
       "      <td>V001_Cold_Start.csv</td>\n",
       "    </tr>\n",
       "    <tr>\n",
       "      <th>2</th>\n",
       "      <td>2025-08-11 21:02:08.665331</td>\n",
       "      <td>V001</td>\n",
       "      <td>EV</td>\n",
       "      <td>Cold Start</td>\n",
       "      <td>0.0</td>\n",
       "      <td>0.0</td>\n",
       "      <td>500.0</td>\n",
       "      <td>118.50</td>\n",
       "      <td>39.91</td>\n",
       "      <td>29.093595</td>\n",
       "      <td>6.20</td>\n",
       "      <td>Idle</td>\n",
       "      <td>100.00</td>\n",
       "      <td>V001_Cold_Start.csv</td>\n",
       "    </tr>\n",
       "    <tr>\n",
       "      <th>3</th>\n",
       "      <td>2025-08-11 21:02:09.665331</td>\n",
       "      <td>V001</td>\n",
       "      <td>EV</td>\n",
       "      <td>Cold Start</td>\n",
       "      <td>0.0</td>\n",
       "      <td>0.0</td>\n",
       "      <td>500.0</td>\n",
       "      <td>108.82</td>\n",
       "      <td>39.93</td>\n",
       "      <td>29.105409</td>\n",
       "      <td>5.70</td>\n",
       "      <td>Idle</td>\n",
       "      <td>100.00</td>\n",
       "      <td>V001_Cold_Start.csv</td>\n",
       "    </tr>\n",
       "    <tr>\n",
       "      <th>4</th>\n",
       "      <td>2025-08-11 21:02:10.665331</td>\n",
       "      <td>V001</td>\n",
       "      <td>EV</td>\n",
       "      <td>Cold Start</td>\n",
       "      <td>0.0</td>\n",
       "      <td>0.0</td>\n",
       "      <td>500.0</td>\n",
       "      <td>123.97</td>\n",
       "      <td>39.95</td>\n",
       "      <td>29.106028</td>\n",
       "      <td>6.49</td>\n",
       "      <td>Idle</td>\n",
       "      <td>99.89</td>\n",
       "      <td>V001_Cold_Start.csv</td>\n",
       "    </tr>\n",
       "  </tbody>\n",
       "</table>\n",
       "</div>"
      ],
      "text/plain": [
       "                    timestamp vehicle_id propulsion_type test_scenario  \\\n",
       "0  2025-08-11 21:02:06.665331       V001              EV    Cold Start   \n",
       "1  2025-08-11 21:02:07.665331       V001              EV    Cold Start   \n",
       "2  2025-08-11 21:02:08.665331       V001              EV    Cold Start   \n",
       "3  2025-08-11 21:02:09.665331       V001              EV    Cold Start   \n",
       "4  2025-08-11 21:02:10.665331       V001              EV    Cold Start   \n",
       "\n",
       "   vehicle_speed_mph  acceleration_mphps  engine_rpm  torque  coolant_temp  \\\n",
       "0                0.0                 0.0       500.0   99.49         39.87   \n",
       "1                0.0                 0.0       500.0   98.36         39.89   \n",
       "2                0.0                 0.0       500.0  118.50         39.91   \n",
       "3                0.0                 0.0       500.0  108.82         39.93   \n",
       "4                0.0                 0.0       500.0  123.97         39.95   \n",
       "\n",
       "   ambient_temp  power_kw phase     soc          source_file  \n",
       "0     29.089257      5.21  Idle   99.99  V001_Cold_Start.csv  \n",
       "1     29.086131      5.15  Idle  100.00  V001_Cold_Start.csv  \n",
       "2     29.093595      6.20  Idle  100.00  V001_Cold_Start.csv  \n",
       "3     29.105409      5.70  Idle  100.00  V001_Cold_Start.csv  \n",
       "4     29.106028      6.49  Idle   99.89  V001_Cold_Start.csv  "
      ]
     },
     "execution_count": 2,
     "metadata": {},
     "output_type": "execute_result"
    }
   ],
   "source": [
    "df.head()"
   ]
  },
  {
   "cell_type": "code",
   "execution_count": 3,
   "id": "78360003",
   "metadata": {},
   "outputs": [],
   "source": [
    "# Step 2: Droping columns that will not be needed for modelling process\n",
    "drop_cols = ['timestamp', 'vehicle_id','test_scenario', 'phase', 'ambient_temp','source_file', 'soc']\n",
    "df_clean = df.drop(columns=drop_cols, errors='ignore')\n"
   ]
  },
  {
   "cell_type": "code",
   "execution_count": 4,
   "id": "398f6e8f",
   "metadata": {},
   "outputs": [],
   "source": [
    "# Step 3: Encoding categorical variables as Isolation forest model requires \n",
    "df_clean['propulsion_type'] = df_clean['propulsion_type'].astype('category').cat.codes"
   ]
  },
  {
   "cell_type": "code",
   "execution_count": 5,
   "id": "3d25cf31",
   "metadata": {},
   "outputs": [],
   "source": [
    "# Step 4: Handling of missing values\n",
    "df_clean = df_clean.fillna(df_clean.median(numeric_only=True))"
   ]
  },
  {
   "cell_type": "code",
   "execution_count": 6,
   "id": "0b45b348",
   "metadata": {},
   "outputs": [],
   "source": [
    "# Step 5: Isolation Forest for general anomaly detection\n",
    "model = IsolationForest(n_estimators=100, contamination=0.02, random_state=42)\n",
    "df['anomaly'] = model.fit_predict(df_clean)\n",
    "df['anomaly'] = df['anomaly'].map({1: 0, -1: 1})  # 1 = normal, -1 = anomaly"
   ]
  },
  {
   "cell_type": "markdown",
   "id": "caf0c2af",
   "metadata": {},
   "source": [
    "In the next step, we will discuss more on the algorithmn \n",
    "- Each tree randomly picks a feature and a split; a point’s path length (how deep you go to isolate it) is short for outliers and long for normal points.\n",
    "\n",
    "- The forest averages path lengths across trees to get a score; contamination picks a percentile of that score as the cut-off so that ≈2% are labeled anomalies.\n",
    "\n",
    "- The process will be broken down into various subsets "
   ]
  },
  {
   "cell_type": "markdown",
   "id": "9965e1e7",
   "metadata": {},
   "source": [
    "I)\n",
    "- We need a purely numeric feature matrix to feed the model.\n",
    "- We are taking numeric as Isolation Forest (IF) in scikit-learn expects numbers; categoricals should be encoded upstream (which you did for propulsion_type/gear)."
   ]
  },
  {
   "cell_type": "code",
   "execution_count": 7,
   "id": "1c7dea10",
   "metadata": {},
   "outputs": [],
   "source": [
    "# Building the feature matrix\n",
    "try:\n",
    "    X_used = X_iso  # if you already created it elsewhere\n",
    "except NameError:\n",
    "    # Using numeric columns from df_clean directly\n",
    "    X_used = df_clean.select_dtypes(include=[np.number]).copy()"
   ]
  },
  {
   "cell_type": "markdown",
   "id": "b9b0326d",
   "metadata": {},
   "source": [
    "II) \n",
    "\n",
    "- Building many random trees on random subsamples; anomalies get isolated in fewer splits (shorter path length) n_estimators=100: number of trees → smoother, more stable scores. contamination=0.02: we expect ~2% outliers. This sets the threshold that converts continuous scores into inlier/outlier labels; it doesn’t change the raw scoring mechanics.\n",
    "\n",
    "- fit_predict returns +1 (inlier) or -1 (outlier). We remap to 0/1 so 1 = a"
   ]
  },
  {
   "cell_type": "code",
   "execution_count": 8,
   "id": "725f0fc3",
   "metadata": {},
   "outputs": [],
   "source": [
    "# 2) (Re)fitting the model if it's missing or its feature count doesn't match X_used\n",
    "if ('model' not in globals()) or (getattr(model, 'n_features_in_', None) != X_used.shape[1]):\n",
    "    model = IsolationForest(n_estimators=100, contamination=0.02, random_state=42)\n",
    "    df['anomaly'] = model.fit_predict(X_used)\n",
    "    df['anomaly'] = df['anomaly'].map({1: 0, -1: 1})"
   ]
  },
  {
   "cell_type": "markdown",
   "id": "00765657",
   "metadata": {},
   "source": [
    "III) \n",
    "\n",
    "- score_samples (scikit-learn) is higher for more normal points.\n",
    "- We negate it so higher = more anomalous, which is intuitive for ranking.\n",
    "- The score relates to the average path length across trees; shorter paths ⇒ more anomalous."
   ]
  },
  {
   "cell_type": "code",
   "execution_count": 9,
   "id": "fae1a5de",
   "metadata": {},
   "outputs": [],
   "source": [
    "# 3) Adding anomaly score (higher = more anomalous)\n",
    "df['anomaly_score'] = -model.score_samples(X_used)"
   ]
  },
  {
   "cell_type": "markdown",
   "id": "5623672d",
   "metadata": {},
   "source": [
    "IV) \n",
    "\n",
    "- We keep ID/time/scenario/propulsion and a few operational signals to inspect what was flagged.\n",
    "- Sort by anomaly_score (most unusual first) and add a rank so you can quickly review the top N."
   ]
  },
  {
   "cell_type": "code",
   "execution_count": 10,
   "id": "f6632f2b",
   "metadata": {},
   "outputs": [],
   "source": [
    "# 4) Show top anomalies with context\n",
    "context_cols = [c for c in [\n",
    "    'vehicle_id', 'timestamp', 'test_scenario', 'propulsion_type',\n",
    "    'vehicle_speed_mph', 'engine_rpm', 'torque'\n",
    "] if c in df.columns]\n",
    "\n",
    "top_anomalies = (\n",
    "    df[df['anomaly'] == 1]\n",
    "      .sort_values('anomaly_score', ascending=False)\n",
    "      .assign(anomaly_rank=lambda s: s['anomaly_score']\n",
    "              .rank(method='first', ascending=False).astype(int))\n",
    "      [context_cols + ['anomaly_score', 'anomaly_rank']]\n",
    ")\n"
   ]
  },
  {
   "cell_type": "markdown",
   "id": "18ba5185",
   "metadata": {},
   "source": [
    "V) \n",
    "\n",
    "- Center by the median (not mean) and scale by MAD (median absolute deviation).\n",
    "- The constant 1.4826 makes MAD comparable to standard deviation under a normal assumption.\n",
    "- This is resistant to outliers (robust), so it highlights which features are unusually large/small for that sample compared to the bulk of the data."
   ]
  },
  {
   "cell_type": "code",
   "execution_count": 11,
   "id": "ed847ba7",
   "metadata": {},
   "outputs": [],
   "source": [
    "# 5) Lightweight “why”: top deviating features via robust z-scores\n",
    "X_med = X_used.median()\n",
    "X_mad = (X_used - X_med).abs().median().replace(0, np.nan).fillna(1e-9)\n",
    "robust_z = ((X_used - X_med) / (1.4826 * X_mad)).replace([np.inf, -np.inf], np.nan).fillna(0.0)\n",
    "\n",
    "def explain_row(i, k=3):\n",
    "    zabs = robust_z.iloc[i].abs().sort_values(ascending=False)\n",
    "    return \", \".join([f\"{f} (|z|={v:.2f})\" for f, v in zabs.head(k).items()])\n",
    "\n",
    "df['anomaly_top_features'] = \"\"\n",
    "anom_idx = df.index[df['anomaly'] == 1]\n",
    "df.loc[anom_idx, 'anomaly_top_features'] = [explain_row(i, 3) for i in anom_idx]\n"
   ]
  },
  {
   "cell_type": "markdown",
   "id": "5959f666",
   "metadata": {},
   "source": [
    "For each anomalous row, we list the top k features with the largest |robust z|.\n",
    "This is a post-hoc diagnostic (not the model’s internal explanation), but it’s a fast and often accurate hint about “what was off” (e.g., torque way below typical, rpm unusually high, etc.)."
   ]
  },
  {
   "cell_type": "code",
   "execution_count": 12,
   "id": "af173896",
   "metadata": {},
   "outputs": [],
   "source": [
    "# Step 6: Overheat Event Detection\n",
    "def detect_overheat(row):\n",
    "    if row['propulsion_type'] in ['EV', 0]:  # 0 is EV after encoding and 1 is for Hybrid\n",
    "        return int(row['coolant_temp'] > 57.8)\n",
    "    else:\n",
    "        return int(row['coolant_temp'] > 69.8)\n",
    "\n",
    "df['overheat_event'] = df.apply(detect_overheat, axis=1)"
   ]
  },
  {
   "cell_type": "markdown",
   "id": "495908d4",
   "metadata": {},
   "source": [
    "Different thresholds by propulsion type: EV packs are more temperature-sensitive than hybrid , so using two limits:\n",
    "\n",
    "EV: 57.8 °C\n",
    "Hybrid/other: 69.8 °C\n",
    "\n",
    "Those are slightly above soft ceilings, which gives a buffer to avoid false positives from rounding/measurement noise while still catching genuinely hot samples."
   ]
  },
  {
   "cell_type": "code",
   "execution_count": 13,
   "id": "a61fcc73",
   "metadata": {},
   "outputs": [],
   "source": [
    "# Step 7: Torque dropout Detection\n",
    "# Marking low torque\n",
    "df['torque_dropout_flag'] = (df['torque'] < 40).astype(int)\n",
    "\n",
    "# Rolling window to check for 3+ consecutive low values\n",
    "df['torque_dropout_event'] = (\n",
    "    df.groupby('vehicle_id')['torque_dropout_flag']\n",
    "    .transform(lambda x: x.rolling(window=3, min_periods=1).sum() >= 3)\n",
    "    .astype(int)\n",
    ")\n",
    "df.drop(columns=['torque_dropout_flag'], inplace=True)"
   ]
  },
  {
   "cell_type": "markdown",
   "id": "3c14c116",
   "metadata": {},
   "source": [
    "Here, the torque threshold is defined if it below 30 NW for 3 consecutive seconds, then we can call it as Torque droput."
   ]
  },
  {
   "cell_type": "code",
   "execution_count": 14,
   "id": "9d31a444",
   "metadata": {},
   "outputs": [
    {
     "name": "stdout",
     "output_type": "stream",
     "text": [
      "\n",
      "🔎 Top 20 IsolationForest anomalies:\n",
      "      vehicle_id                   timestamp test_scenario propulsion_type  \\\n",
      "22712       V002  2025-08-11 21:53:38.941160    High Speed          Hybrid   \n",
      "54723       V004  2025-08-11 22:05:10.265321    High Speed          Hybrid   \n",
      "22555       V002  2025-08-11 21:51:01.941160    High Speed          Hybrid   \n",
      "7921        V001  2025-08-11 21:25:07.800516    High Speed              EV   \n",
      "7933        V001  2025-08-11 21:25:19.800516    High Speed              EV   \n",
      "7947        V001  2025-08-11 21:25:33.800516    High Speed              EV   \n",
      "54642       V004  2025-08-11 22:03:49.265321    High Speed          Hybrid   \n",
      "7946        V001  2025-08-11 21:25:32.800516    High Speed              EV   \n",
      "54731       V004  2025-08-11 22:05:18.265321    High Speed          Hybrid   \n",
      "22435       V002  2025-08-11 21:49:01.941160    High Speed          Hybrid   \n",
      "70256       V005  2025-08-11 21:50:03.466682    High Speed              EV   \n",
      "36573       V003  2025-08-11 21:41:40.115550    High Speed              EV   \n",
      "54567       V004  2025-08-11 22:02:34.265321    High Speed          Hybrid   \n",
      "54797       V004  2025-08-11 22:06:24.265321    High Speed          Hybrid   \n",
      "22515       V002  2025-08-11 21:50:21.941160    High Speed          Hybrid   \n",
      "22631       V002  2025-08-11 21:52:17.941160    High Speed          Hybrid   \n",
      "54747       V004  2025-08-11 22:05:34.265321    High Speed          Hybrid   \n",
      "54754       V004  2025-08-11 22:05:41.265321    High Speed          Hybrid   \n",
      "54757       V004  2025-08-11 22:05:44.265321    High Speed          Hybrid   \n",
      "22572       V002  2025-08-11 21:51:18.941160    High Speed          Hybrid   \n",
      "\n",
      "       vehicle_speed_mph  engine_rpm  torque  anomaly_score  anomaly_rank  \n",
      "22712             106.51     4926.53  268.04       0.661967             1  \n",
      "54723             108.94     4991.57  297.34       0.659018             2  \n",
      "22555             105.79     4740.93  294.79       0.651857             3  \n",
      "7921              106.70     4842.68  287.89       0.650741             4  \n",
      "7933              110.22     5015.70  284.75       0.650411             5  \n",
      "7947              100.54     4490.81  273.85       0.650093             6  \n",
      "54642             106.76     4815.01  292.07       0.649460             7  \n",
      "7946              104.95     4902.24  246.36       0.647715             8  \n",
      "54731             109.64     4965.64  274.62       0.646506             9  \n",
      "22435             102.74     4615.89  308.69       0.646393            10  \n",
      "70256             109.44     5005.44  290.69       0.646155            11  \n",
      "36573             100.62     4455.19  298.38       0.645714            12  \n",
      "54567             105.31     4778.88  279.67       0.644694            13  \n",
      "54797             105.76     4815.26  240.26       0.643067            14  \n",
      "22515             103.88     4630.31  293.37       0.642932            15  \n",
      "22631             109.76     4891.11  250.43       0.641846            16  \n",
      "54747             108.86     4925.42  251.19       0.641846            17  \n",
      "54754             110.73     4802.18  274.86       0.640262            18  \n",
      "54757             108.76     4873.12  288.31       0.640049            19  \n",
      "22572             106.05     4914.55  256.60       0.639387            20  \n"
     ]
    }
   ],
   "source": [
    "# Printing the top most anomolies detecte by Isolation forest \n",
    "print(\"\\n🔎 Top 20 IsolationForest anomalies:\")\n",
    "print(top_anomalies.head(20))"
   ]
  },
  {
   "cell_type": "code",
   "execution_count": 15,
   "id": "d7ed632f",
   "metadata": {},
   "outputs": [
    {
     "name": "stdout",
     "output_type": "stream",
     "text": [
      "Failure Summary by Propulsion Type:\n",
      "  propulsion_type  anomaly  overheat_event  torque_dropout_event\n",
      "0              EV      504              21                     1\n",
      "1          Hybrid      990              11                     0\n"
     ]
    }
   ],
   "source": [
    "# Step 8: Anomaly, Overheat_ event and Torque Dropout Summary \n",
    "summary = df.groupby('propulsion_type')[['anomaly', 'overheat_event', 'torque_dropout_event']].sum().reset_index()\n",
    "\n",
    "print(\"Failure Summary by Propulsion Type:\")\n",
    "print(summary)"
   ]
  },
  {
   "cell_type": "code",
   "execution_count": 16,
   "id": "11bf24c4",
   "metadata": {},
   "outputs": [
    {
     "name": "stdout",
     "output_type": "stream",
     "text": [
      "  propulsion_type  test_scenario  anomaly_count\n",
      "6          Hybrid     High Speed            880\n",
      "2              EV     High Speed            478\n",
      "4          Hybrid     Cold Start             97\n",
      "0              EV     Cold Start             19\n",
      "7          Hybrid     Hill Climb             11\n",
      "3              EV     Hill Climb              4\n",
      "1              EV  Endurance Run              3\n",
      "5          Hybrid  Endurance Run              2\n"
     ]
    }
   ],
   "source": [
    "# Grouping by propulsion_type and test_scenario, and sum up the anomaly column\n",
    "anomaly_summary = df.groupby(['propulsion_type', 'test_scenario'])['anomaly'].sum().reset_index()\n",
    "\n",
    "# Renaming column for clarity\n",
    "anomaly_summary.rename(columns={'anomaly': 'anomaly_count'}, inplace=True)\n",
    "\n",
    "# Sorting by highest anomalies\n",
    "anomaly_summary = anomaly_summary.sort_values(by='anomaly_count', ascending=False)\n",
    "\n",
    "# Summary Display \n",
    "print(anomaly_summary)"
   ]
  },
  {
   "cell_type": "code",
   "execution_count": 17,
   "id": "e3df7c53",
   "metadata": {},
   "outputs": [
    {
     "name": "stdout",
     "output_type": "stream",
     "text": [
      "Failure Summary by Vehicle, Scenario & Propulsion:\n",
      "   vehicle_id  test_scenario propulsion_type  anomaly  overheat_event  \\\n",
      "14       V004     High Speed          Hybrid      539               1   \n",
      "6        V002     High Speed          Hybrid      341               2   \n",
      "18       V005     High Speed              EV      186               0   \n",
      "10       V003     High Speed              EV      173               2   \n",
      "2        V001     High Speed              EV      119               1   \n",
      "12       V004     Cold Start          Hybrid       69               1   \n",
      "4        V002     Cold Start          Hybrid       28               4   \n",
      "8        V003     Cold Start              EV       18               2   \n",
      "15       V004     Hill Climb          Hybrid       11               0   \n",
      "19       V005     Hill Climb              EV        4               2   \n",
      "9        V003  Endurance Run              EV        1               3   \n",
      "16       V005     Cold Start              EV        1               3   \n",
      "17       V005  Endurance Run              EV        1               3   \n",
      "13       V004  Endurance Run          Hybrid        1               2   \n",
      "0        V001     Cold Start              EV        0               2   \n",
      "11       V003     Hill Climb              EV        0               2   \n",
      "1        V001  Endurance Run              EV        1               0   \n",
      "5        V002  Endurance Run          Hybrid        1               0   \n",
      "3        V001     Hill Climb              EV        0               1   \n",
      "7        V002     Hill Climb          Hybrid        0               1   \n",
      "\n",
      "    torque_dropout_event  total_flags  \n",
      "14                     0          540  \n",
      "6                      0          343  \n",
      "18                     0          186  \n",
      "10                     0          175  \n",
      "2                      0          120  \n",
      "12                     0           70  \n",
      "4                      0           32  \n",
      "8                      1           21  \n",
      "15                     0           11  \n",
      "19                     0            6  \n",
      "9                      0            4  \n",
      "16                     0            4  \n",
      "17                     0            4  \n",
      "13                     0            3  \n",
      "0                      0            2  \n",
      "11                     0            2  \n",
      "1                      0            1  \n",
      "5                      0            1  \n",
      "3                      0            1  \n",
      "7                      0            1  \n"
     ]
    }
   ],
   "source": [
    "# Step 9: Anomaly Summary (by vehicle, scenario, and propulsion)\n",
    "summary = (\n",
    "    df.groupby(['vehicle_id', 'test_scenario', 'propulsion_type'])\n",
    "      [['anomaly', 'overheat_event', 'torque_dropout_event']]\n",
    "      .sum()\n",
    "      .reset_index()\n",
    ")\n",
    "\n",
    "summary_any = (\n",
    "    summary[\n",
    "        (summary['anomaly'] > 0) |\n",
    "        (summary['overheat_event'] > 0) |\n",
    "        (summary['torque_dropout_event'] > 0)\n",
    "    ]\n",
    "    .assign(total_flags=lambda s: s['anomaly'] + s['overheat_event'] + s['torque_dropout_event'])\n",
    "    .sort_values(['total_flags', 'anomaly', 'overheat_event', 'torque_dropout_event'], ascending=False)\n",
    ")\n",
    "\n",
    "print(\"Failure Summary by Vehicle, Scenario & Propulsion:\")\n",
    "print(summary_any)\n"
   ]
  },
  {
   "cell_type": "markdown",
   "id": "8fae86af",
   "metadata": {},
   "source": [
    "Now that the results have been displayed, its worth noting about the advantages and drawbacks of this methodology : \n",
    "\n",
    "Key hyperparameters\n",
    "- n_estimators: 100–300 (more trees = smoother scores).\n",
    "- max_samples: 256 (classic default; sub-sampling is core to IF).\n",
    "- contamination: expected outlier fraction (e.g., 0.5–2%). Used only to set the decision threshold.\n",
    "- max_features: 1.0 typically fine; can sub-sample features if very wide.\n",
    "- random_state: for reproducibility.\n",
    "\n",
    "Advantages \n",
    "- Fast on large datasets (trees on small subsamples).\n",
    "- Few assumptions; works with mixed distributions.\n",
    "- Handles high dimensions better than density methods.\n",
    "- Works well Torque dropout and Overheating really well.\n",
    "\n",
    "Drawbacks\n",
    "- Categoricals need encoding (e.g., target/ordinal/one-hot). We used codes for propulsion_type.\n",
    "- Scaling isn’t required for trees, but features with extreme ranges can dominate split spans; robust scaling can help sometimes.\n",
    "- Missing values: imputing (median/most frequent) before fitting.\n",
    "- Showcases poor results with general anomoly detection (eg., High speed is flagged as anamoly and much)\n",
    "\n",
    "Note: Please take only Torque dropout and Overheating into consideration!\n",
    "\n",
    "Future Considerations\n",
    "- Fine Tune evaluation needed \n",
    "- Work on refinement with the anamoly detection\n",
    "- Have data labels planned for it\n",
    "- More necessary features "
   ]
  }
 ],
 "metadata": {
  "kernelspec": {
   "display_name": "Python 3 (ipykernel)",
   "language": "python",
   "name": "python3"
  },
  "language_info": {
   "codemirror_mode": {
    "name": "ipython",
    "version": 3
   },
   "file_extension": ".py",
   "mimetype": "text/x-python",
   "name": "python",
   "nbconvert_exporter": "python",
   "pygments_lexer": "ipython3",
   "version": "3.11.5"
  }
 },
 "nbformat": 4,
 "nbformat_minor": 5
}
